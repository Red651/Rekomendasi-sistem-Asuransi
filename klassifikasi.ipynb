{
 "cells": [
  {
   "cell_type": "markdown",
   "metadata": {},
   "source": [
    "# Klasifikasi"
   ]
  },
  {
   "cell_type": "code",
   "execution_count": 1,
   "metadata": {},
   "outputs": [
    {
     "name": "stderr",
     "output_type": "stream",
     "text": [
      "[nltk_data] Downloading package punkt to\n",
      "[nltk_data]     C:\\Users\\farha\\AppData\\Roaming\\nltk_data...\n",
      "[nltk_data]   Package punkt is already up-to-date!\n"
     ]
    }
   ],
   "source": [
    "# klassifikasi produk asuransi menggunakan Logistic Regression\n",
    "from sklearn.linear_model import LogisticRegression\n",
    "import pandas as pd\n",
    "from sklearn.pipeline import Pipeline\n",
    "from gensim.models import Word2Vec\n",
    "# train test split\n",
    "from sklearn.model_selection import train_test_split\n",
    "# nkltk\n",
    "import nltk\n",
    "nltk.download('punkt')\n",
    "from nltk.tokenize import word_tokenize\n",
    "from gensim.models import Word2Vec\n",
    "from sklearn.model_selection import train_test_split\n",
    "from sklearn.linear_model import LogisticRegression\n",
    "from sklearn.metrics import accuracy_score\n",
    "import numpy as np"
   ]
  },
  {
   "cell_type": "code",
   "execution_count": 26,
   "metadata": {},
   "outputs": [],
   "source": [
    "df = pd.read_csv('Fix_Dataset/asuransi_clean.csv')"
   ]
  },
  {
   "cell_type": "code",
   "execution_count": 27,
   "metadata": {},
   "outputs": [
    {
     "data": {
      "text/html": [
       "<div>\n",
       "<style scoped>\n",
       "    .dataframe tbody tr th:only-of-type {\n",
       "        vertical-align: middle;\n",
       "    }\n",
       "\n",
       "    .dataframe tbody tr th {\n",
       "        vertical-align: top;\n",
       "    }\n",
       "\n",
       "    .dataframe thead th {\n",
       "        text-align: right;\n",
       "    }\n",
       "</style>\n",
       "<table border=\"1\" class=\"dataframe\">\n",
       "  <thead>\n",
       "    <tr style=\"text-align: right;\">\n",
       "      <th></th>\n",
       "      <th>created_at</th>\n",
       "      <th>full_text</th>\n",
       "      <th>username</th>\n",
       "      <th>Produk</th>\n",
       "      <th>rate</th>\n",
       "    </tr>\n",
       "  </thead>\n",
       "  <tbody>\n",
       "    <tr>\n",
       "      <th>0</th>\n",
       "      <td>2023-09-25</td>\n",
       "      <td>['1', '5', 'juta', 'sist', 'kantor', 'sih', 'j...</td>\n",
       "      <td>Ditanyadia</td>\n",
       "      <td>AIA</td>\n",
       "      <td>2</td>\n",
       "    </tr>\n",
       "    <tr>\n",
       "      <th>1</th>\n",
       "      <td>2023-09-22</td>\n",
       "      <td>['mohon', 'klarifikasi', 'dari', 'asuransi', '...</td>\n",
       "      <td>MuhTaufikRahmat</td>\n",
       "      <td>AIA</td>\n",
       "      <td>2</td>\n",
       "    </tr>\n",
       "    <tr>\n",
       "      <th>2</th>\n",
       "      <td>2023-09-21</td>\n",
       "      <td>['indonesia', 'unit', 'link', '5', 'tips', 'se...</td>\n",
       "      <td>fiona99351131</td>\n",
       "      <td>AIA</td>\n",
       "      <td>2</td>\n",
       "    </tr>\n",
       "    <tr>\n",
       "      <th>3</th>\n",
       "      <td>2023-09-21</td>\n",
       "      <td>['halo', 'bang', 'maaf', 'nimbrung', 'pesan', ...</td>\n",
       "      <td>fiayeee</td>\n",
       "      <td>AIA</td>\n",
       "      <td>2</td>\n",
       "    </tr>\n",
       "    <tr>\n",
       "      <th>4</th>\n",
       "      <td>2023-09-18</td>\n",
       "      <td>['impactnya', 'rumah', 'sakit', 'rekan', 'reka...</td>\n",
       "      <td>filcadet</td>\n",
       "      <td>AIA</td>\n",
       "      <td>1</td>\n",
       "    </tr>\n",
       "  </tbody>\n",
       "</table>\n",
       "</div>"
      ],
      "text/plain": [
       "   created_at                                          full_text  \\\n",
       "0  2023-09-25  ['1', '5', 'juta', 'sist', 'kantor', 'sih', 'j...   \n",
       "1  2023-09-22  ['mohon', 'klarifikasi', 'dari', 'asuransi', '...   \n",
       "2  2023-09-21  ['indonesia', 'unit', 'link', '5', 'tips', 'se...   \n",
       "3  2023-09-21  ['halo', 'bang', 'maaf', 'nimbrung', 'pesan', ...   \n",
       "4  2023-09-18  ['impactnya', 'rumah', 'sakit', 'rekan', 'reka...   \n",
       "\n",
       "          username Produk  rate  \n",
       "0       Ditanyadia    AIA     2  \n",
       "1  MuhTaufikRahmat    AIA     2  \n",
       "2    fiona99351131    AIA     2  \n",
       "3          fiayeee    AIA     2  \n",
       "4         filcadet    AIA     1  "
      ]
     },
     "execution_count": 27,
     "metadata": {},
     "output_type": "execute_result"
    }
   ],
   "source": [
    "df.head()"
   ]
  },
  {
   "cell_type": "code",
   "execution_count": 30,
   "metadata": {},
   "outputs": [
    {
     "data": {
      "text/plain": [
       "Produk\n",
       "AIA           263\n",
       "Prudential    302\n",
       "BNI Life      540\n",
       "Allianz       585\n",
       "Manulife      715\n",
       "Cigna         816\n",
       "Name: count, dtype: int64"
      ]
     },
     "execution_count": 30,
     "metadata": {},
     "output_type": "execute_result"
    }
   ],
   "source": [
    "df['Produk'].value_counts().sort_values(ascending=True)"
   ]
  },
  {
   "cell_type": "code",
   "execution_count": 37,
   "metadata": {},
   "outputs": [],
   "source": [
    "# encoding label kategori produk asuransi menggunakan dictionary\n",
    "\n",
    "label = { 'AIA' : 0, 'Allianz' : 1, 'Prudential' : 2, 'BNI Life' : 3, 'Manulife' : 4, 'Cigna' : 5 }\n",
    "\n",
    "df['label'] = df['Produk'].replace(label)"
   ]
  },
  {
   "cell_type": "code",
   "execution_count": 38,
   "metadata": {},
   "outputs": [
    {
     "data": {
      "text/html": [
       "<div>\n",
       "<style scoped>\n",
       "    .dataframe tbody tr th:only-of-type {\n",
       "        vertical-align: middle;\n",
       "    }\n",
       "\n",
       "    .dataframe tbody tr th {\n",
       "        vertical-align: top;\n",
       "    }\n",
       "\n",
       "    .dataframe thead th {\n",
       "        text-align: right;\n",
       "    }\n",
       "</style>\n",
       "<table border=\"1\" class=\"dataframe\">\n",
       "  <thead>\n",
       "    <tr style=\"text-align: right;\">\n",
       "      <th></th>\n",
       "      <th>created_at</th>\n",
       "      <th>full_text</th>\n",
       "      <th>username</th>\n",
       "      <th>Produk</th>\n",
       "      <th>rate</th>\n",
       "      <th>label</th>\n",
       "    </tr>\n",
       "  </thead>\n",
       "  <tbody>\n",
       "    <tr>\n",
       "      <th>0</th>\n",
       "      <td>2023-09-25</td>\n",
       "      <td>['1', '5', 'juta', 'sist', 'kantor', 'sih', 'j...</td>\n",
       "      <td>Ditanyadia</td>\n",
       "      <td>AIA</td>\n",
       "      <td>2</td>\n",
       "      <td>0</td>\n",
       "    </tr>\n",
       "    <tr>\n",
       "      <th>1</th>\n",
       "      <td>2023-09-22</td>\n",
       "      <td>['mohon', 'klarifikasi', 'dari', 'asuransi', '...</td>\n",
       "      <td>MuhTaufikRahmat</td>\n",
       "      <td>AIA</td>\n",
       "      <td>2</td>\n",
       "      <td>0</td>\n",
       "    </tr>\n",
       "    <tr>\n",
       "      <th>2</th>\n",
       "      <td>2023-09-21</td>\n",
       "      <td>['indonesia', 'unit', 'link', '5', 'tips', 'se...</td>\n",
       "      <td>fiona99351131</td>\n",
       "      <td>AIA</td>\n",
       "      <td>2</td>\n",
       "      <td>0</td>\n",
       "    </tr>\n",
       "    <tr>\n",
       "      <th>3</th>\n",
       "      <td>2023-09-21</td>\n",
       "      <td>['halo', 'bang', 'maaf', 'nimbrung', 'pesan', ...</td>\n",
       "      <td>fiayeee</td>\n",
       "      <td>AIA</td>\n",
       "      <td>2</td>\n",
       "      <td>0</td>\n",
       "    </tr>\n",
       "    <tr>\n",
       "      <th>4</th>\n",
       "      <td>2023-09-18</td>\n",
       "      <td>['impactnya', 'rumah', 'sakit', 'rekan', 'reka...</td>\n",
       "      <td>filcadet</td>\n",
       "      <td>AIA</td>\n",
       "      <td>1</td>\n",
       "      <td>0</td>\n",
       "    </tr>\n",
       "  </tbody>\n",
       "</table>\n",
       "</div>"
      ],
      "text/plain": [
       "   created_at                                          full_text  \\\n",
       "0  2023-09-25  ['1', '5', 'juta', 'sist', 'kantor', 'sih', 'j...   \n",
       "1  2023-09-22  ['mohon', 'klarifikasi', 'dari', 'asuransi', '...   \n",
       "2  2023-09-21  ['indonesia', 'unit', 'link', '5', 'tips', 'se...   \n",
       "3  2023-09-21  ['halo', 'bang', 'maaf', 'nimbrung', 'pesan', ...   \n",
       "4  2023-09-18  ['impactnya', 'rumah', 'sakit', 'rekan', 'reka...   \n",
       "\n",
       "          username Produk  rate  label  \n",
       "0       Ditanyadia    AIA     2      0  \n",
       "1  MuhTaufikRahmat    AIA     2      0  \n",
       "2    fiona99351131    AIA     2      0  \n",
       "3          fiayeee    AIA     2      0  \n",
       "4         filcadet    AIA     1      0  "
      ]
     },
     "execution_count": 38,
     "metadata": {},
     "output_type": "execute_result"
    }
   ],
   "source": [
    "df.head()"
   ]
  },
  {
   "cell_type": "code",
   "execution_count": 39,
   "metadata": {},
   "outputs": [
    {
     "data": {
      "text/plain": [
       "<Axes: xlabel='label'>"
      ]
     },
     "execution_count": 39,
     "metadata": {},
     "output_type": "execute_result"
    },
    {
     "data": {
      "image/png": "[encoded data removed]",
      "text/plain": [
       "<Figure size 640x480 with 1 Axes>"
      ]
     },
     "metadata": {},
     "output_type": "display_data"
    }
   ],
   "source": [
    "df['label'].value_counts().plot(kind='bar')"
   ]
  },
  {
   "cell_type": "code",
   "execution_count": 40,
   "metadata": {},
   "outputs": [],
   "source": [
    "# split data\n",
    "X = df['full_text']\n",
    "y = df['label']"
   ]
  },
  {
   "cell_type": "code",
   "execution_count": 41,
   "metadata": {},
   "outputs": [],
   "source": [
    "X_train, X_test, y_train, y_test = train_test_split(X, y, test_size=0.2, random_state=42)"
   ]
  },
  {
   "cell_type": "code",
   "execution_count": 42,
   "metadata": {},
   "outputs": [],
   "source": [
    "sentences = [word_tokenize(text.lower()) for text in X_train]\n",
    "word2vec = Word2Vec(sentences=sentences, vector_size=100, window=5, min_count=1, workers=4)\n",
    "\n",
    "def text_to_vector(text):\n",
    "    tokens = word_tokenize(text.lower())\n",
    "    vector = np.zeros(100)\n",
    "    count = 0\n",
    "    for word in tokens:\n",
    "        if word in word2vec.wv:\n",
    "            vector += word2vec.wv[word]\n",
    "            count += 1\n",
    "    if count != 0:\n",
    "        vector /= count\n",
    "    return vector"
   ]
  },
  {
   "cell_type": "code",
   "execution_count": 43,
   "metadata": {},
   "outputs": [],
   "source": [
    "# Mengubah data teks menjadi representasi vektor\n",
    "X_train_vector = [text_to_vector(text) for text in X_train]\n",
    "X_test_vector = [text_to_vector(text) for text in X_test]"
   ]
  },
  {
   "cell_type": "code",
   "execution_count": 44,
   "metadata": {},
   "outputs": [
    {
     "data": {
      "text/html": [
       "<style>#sk-container-id-2 {color: black;}#sk-container-id-2 pre{padding: 0;}#sk-container-id-2 div.sk-toggleable {background-color: white;}#sk-container-id-2 label.sk-toggleable__label {cursor: pointer;display: block;width: 100%;margin-bottom: 0;padding: 0.3em;box-sizing: border-box;text-align: center;}#sk-container-id-2 label.sk-toggleable__label-arrow:before {content: \"▸\";float: left;margin-right: 0.25em;color: #696969;}#sk-container-id-2 label.sk-toggleable__label-arrow:hover:before {color: black;}#sk-container-id-2 div.sk-estimator:hover label.sk-toggleable__label-arrow:before {color: black;}#sk-container-id-2 div.sk-toggleable__content {max-height: 0;max-width: 0;overflow: hidden;text-align: left;background-color: #f0f8ff;}#sk-container-id-2 div.sk-toggleable__content pre {margin: 0.2em;color: black;border-radius: 0.25em;background-color: #f0f8ff;}#sk-container-id-2 input.sk-toggleable__control:checked~div.sk-toggleable__content {max-height: 200px;max-width: 100%;overflow: auto;}#sk-container-id-2 input.sk-toggleable__control:checked~label.sk-toggleable__label-arrow:before {content: \"▾\";}#sk-container-id-2 div.sk-estimator input.sk-toggleable__control:checked~label.sk-toggleable__label {background-color: #d4ebff;}#sk-container-id-2 div.sk-label input.sk-toggleable__control:checked~label.sk-toggleable__label {background-color: #d4ebff;}#sk-container-id-2 input.sk-hidden--visually {border: 0;clip: rect(1px 1px 1px 1px);clip: rect(1px, 1px, 1px, 1px);height: 1px;margin: -1px;overflow: hidden;padding: 0;position: absolute;width: 1px;}#sk-container-id-2 div.sk-estimator {font-family: monospace;background-color: #f0f8ff;border: 1px dotted black;border-radius: 0.25em;box-sizing: border-box;margin-bottom: 0.5em;}#sk-container-id-2 div.sk-estimator:hover {background-color: #d4ebff;}#sk-container-id-2 div.sk-parallel-item::after {content: \"\";width: 100%;border-bottom: 1px solid gray;flex-grow: 1;}#sk-container-id-2 div.sk-label:hover label.sk-toggleable__label {background-color: #d4ebff;}#sk-container-id-2 div.sk-serial::before {content: \"\";position: absolute;border-left: 1px solid gray;box-sizing: border-box;top: 0;bottom: 0;left: 50%;z-index: 0;}#sk-container-id-2 div.sk-serial {display: flex;flex-direction: column;align-items: center;background-color: white;padding-right: 0.2em;padding-left: 0.2em;position: relative;}#sk-container-id-2 div.sk-item {position: relative;z-index: 1;}#sk-container-id-2 div.sk-parallel {display: flex;align-items: stretch;justify-content: center;background-color: white;position: relative;}#sk-container-id-2 div.sk-item::before, #sk-container-id-2 div.sk-parallel-item::before {content: \"\";position: absolute;border-left: 1px solid gray;box-sizing: border-box;top: 0;bottom: 0;left: 50%;z-index: -1;}#sk-container-id-2 div.sk-parallel-item {display: flex;flex-direction: column;z-index: 1;position: relative;background-color: white;}#sk-container-id-2 div.sk-parallel-item:first-child::after {align-self: flex-end;width: 50%;}#sk-container-id-2 div.sk-parallel-item:last-child::after {align-self: flex-start;width: 50%;}#sk-container-id-2 div.sk-parallel-item:only-child::after {width: 0;}#sk-container-id-2 div.sk-dashed-wrapped {border: 1px dashed gray;margin: 0 0.4em 0.5em 0.4em;box-sizing: border-box;padding-bottom: 0.4em;background-color: white;}#sk-container-id-2 div.sk-label label {font-family: monospace;font-weight: bold;display: inline-block;line-height: 1.2em;}#sk-container-id-2 div.sk-label-container {text-align: center;}#sk-container-id-2 div.sk-container {/* jupyter's `normalize.less` sets `[hidden] { display: none; }` but bootstrap.min.css set `[hidden] { display: none !important; }` so we also need the `!important` here to be able to override the default hidden behavior on the sphinx rendered scikit-learn.org. See: https://github.com/scikit-learn/scikit-learn/issues/21755 */display: inline-block !important;position: relative;}#sk-container-id-2 div.sk-text-repr-fallback {display: none;}</style><div id=\"sk-container-id-2\" class=\"sk-top-container\"><div class=\"sk-text-repr-fallback\"><pre>LogisticRegression(max_iter=1000)</pre><b>In a Jupyter environment, please rerun this cell to show the HTML representation or trust the notebook. <br />On GitHub, the HTML representation is unable to render, please try loading this page with nbviewer.org.</b></div><div class=\"sk-container\" hidden><div class=\"sk-item\"><div class=\"sk-estimator sk-toggleable\"><input class=\"sk-toggleable__control sk-hidden--visually\" id=\"sk-estimator-id-2\" type=\"checkbox\" checked><label for=\"sk-estimator-id-2\" class=\"sk-toggleable__label sk-toggleable__label-arrow\">LogisticRegression</label><div class=\"sk-toggleable__content\"><pre>LogisticRegression(max_iter=1000)</pre></div></div></div></div></div>"
      ],
      "text/plain": [
       "LogisticRegression(max_iter=1000)"
      ]
     },
     "execution_count": 44,
     "metadata": {},
     "output_type": "execute_result"
    }
   ],
   "source": [
    "model = LogisticRegression(max_iter=1000)\n",
    "model.fit(X_train_vector, y_train)"
   ]
  },
  {
   "cell_type": "code",
   "execution_count": 45,
   "metadata": {},
   "outputs": [],
   "source": [
    "y_pred = model.predict(X_test_vector)"
   ]
  },
  {
   "cell_type": "code",
   "execution_count": 46,
   "metadata": {},
   "outputs": [
    {
     "name": "stdout",
     "output_type": "stream",
     "text": [
      "Akurasi model Logistic Regression: 0.5782945736434109\n"
     ]
    }
   ],
   "source": [
    "# Evaluasi model\n",
    "accuracy = accuracy_score(y_test, y_pred)\n",
    "print(\"Akurasi model Logistic Regression:\", accuracy)"
   ]
  },
  {
   "cell_type": "code",
   "execution_count": 47,
   "metadata": {},
   "outputs": [],
   "source": [
    "# membandingkan menggunakan pipeline tfidf dan word2vec\n",
    "from sklearn.feature_extraction.text import TfidfVectorizer\n",
    "from sklearn.metrics import accuracy_score\n",
    "from sklearn.pipeline import Pipeline\n",
    "\n",
    "# Membuat pipeline dengan TfidfVectorizer dan Logistic Regression\n",
    "pipeline_tfidf = Pipeline([\n",
    "    ('tfidf', TfidfVectorizer()),\n",
    "    ('clf', LogisticRegression(max_iter=1000))\n",
    "])"
   ]
  },
  {
   "cell_type": "code",
   "execution_count": 48,
   "metadata": {},
   "outputs": [],
   "source": [
    "# Membuat pipeline dengan Word2Vec dan Logistic Regression\n",
    "pipeline_w2v = Pipeline([\n",
    "    ('clf', LogisticRegression(max_iter=1000))\n",
    "])"
   ]
  },
  {
   "cell_type": "code",
   "execution_count": 49,
   "metadata": {},
   "outputs": [
    {
     "name": "stdout",
     "output_type": "stream",
     "text": [
      "Akurasi model Logistic Regression dengan TF-IDF: 0.9255813953488372\n"
     ]
    }
   ],
   "source": [
    "# Melatih model dengan pipeline tfidf\n",
    "pipeline_tfidf.fit(X_train, y_train)\n",
    "y_pred_tfidf = pipeline_tfidf.predict(X_test)\n",
    "accuracy_tfidf = accuracy_score(y_test, y_pred_tfidf)\n",
    "print(\"Akurasi model Logistic Regression dengan TF-IDF:\", accuracy_tfidf)"
   ]
  },
  {
   "cell_type": "code",
   "execution_count": 50,
   "metadata": {},
   "outputs": [
    {
     "name": "stdout",
     "output_type": "stream",
     "text": [
      "Akurasi model Logistic Regression dengan Word2Vec: 0.5782945736434109\n"
     ]
    }
   ],
   "source": [
    "# Melatih model dengan pipeline word2vec\n",
    "pipeline_w2v.fit(X_train_vector, y_train)\n",
    "y_pred_w2v = pipeline_w2v.predict(X_test_vector)\n",
    "accuracy_w2v = accuracy_score(y_test, y_pred_w2v)\n",
    "print(\"Akurasi model Logistic Regression dengan Word2Vec:\", accuracy_w2v)"
   ]
  },
  {
   "cell_type": "code",
   "execution_count": 51,
   "metadata": {},
   "outputs": [],
   "source": [
    "# KNN\n",
    "from sklearn.neighbors import KNeighborsClassifier\n",
    "\n",
    "# Membuat pipeline dengan TfidfVectorizer dan KNN\n",
    "pipeline_tfidf_knn = Pipeline([\n",
    "    ('tfidf', TfidfVectorizer()),\n",
    "    ('clf', KNeighborsClassifier())\n",
    "])\n",
    "\n",
    "# Membuat pipeline dengan Word2Vec dan KNN\n",
    "pipeline_w2v_knn = Pipeline([\n",
    "    ('clf', KNeighborsClassifier())\n",
    "])"
   ]
  },
  {
   "cell_type": "code",
   "execution_count": 52,
   "metadata": {},
   "outputs": [
    {
     "name": "stdout",
     "output_type": "stream",
     "text": [
      "Akurasi model KNN dengan TF-IDF: 0.7565891472868217\n"
     ]
    }
   ],
   "source": [
    "# Melatih model dengan pipeline tfidf\n",
    "pipeline_tfidf_knn.fit(X_train, y_train)\n",
    "y_pred_tfidf_knn = pipeline_tfidf_knn.predict(X_test)\n",
    "accuracy_tfidf_knn = accuracy_score(y_test, y_pred_tfidf_knn)\n",
    "print(\"Akurasi model KNN dengan TF-IDF:\", accuracy_tfidf_knn)"
   ]
  },
  {
   "cell_type": "code",
   "execution_count": 53,
   "metadata": {},
   "outputs": [
    {
     "name": "stdout",
     "output_type": "stream",
     "text": [
      "Akurasi model KNN dengan Word2Vec: 0.524031007751938\n"
     ]
    }
   ],
   "source": [
    "# Melatih model dengan pipeline word2vec\n",
    "pipeline_w2v_knn.fit(X_train_vector, y_train)\n",
    "y_pred_w2v_knn = pipeline_w2v_knn.predict(X_test_vector)\n",
    "accuracy_w2v_knn = accuracy_score(y_test, y_pred_w2v_knn)\n",
    "print(\"Akurasi model KNN dengan Word2Vec:\", accuracy_w2v_knn)"
   ]
  },
  {
   "cell_type": "code",
   "execution_count": 54,
   "metadata": {},
   "outputs": [],
   "source": [
    "# Decision Tree\n",
    "from sklearn.tree import DecisionTreeClassifier\n",
    "\n",
    "# Membuat pipeline dengan TfidfVectorizer dan Decision Tree\n",
    "pipeline_tfidf_dt = Pipeline([\n",
    "    ('tfidf', TfidfVectorizer()),\n",
    "    ('clf', DecisionTreeClassifier())\n",
    "])\n",
    "\n",
    "# Membuat pipeline dengan Word2Vec dan Decision Tree\n",
    "pipeline_w2v_dt = Pipeline([\n",
    "    ('clf', DecisionTreeClassifier())\n",
    "])"
   ]
  },
  {
   "cell_type": "code",
   "execution_count": 55,
   "metadata": {},
   "outputs": [
    {
     "name": "stdout",
     "output_type": "stream",
     "text": [
      "Akurasi model Decision Tree dengan TF-IDF: 0.9085271317829458\n"
     ]
    }
   ],
   "source": [
    "# Melatih model dengan pipeline tfidf\n",
    "pipeline_tfidf_dt.fit(X_train, y_train)\n",
    "y_pred_tfidf_dt = pipeline_tfidf_dt.predict(X_test)\n",
    "accuracy_tfidf_dt = accuracy_score(y_test, y_pred_tfidf_dt)\n",
    "print(\"Akurasi model Decision Tree dengan TF-IDF:\", accuracy_tfidf_dt)"
   ]
  },
  {
   "cell_type": "code",
   "execution_count": 56,
   "metadata": {},
   "outputs": [
    {
     "name": "stdout",
     "output_type": "stream",
     "text": [
      "Akurasi model Decision Tree dengan Word2Vec: 0.48992248062015503\n"
     ]
    }
   ],
   "source": [
    "# Melatih model dengan pipeline word2vec\n",
    "pipeline_w2v_dt.fit(X_train_vector, y_train)\n",
    "y_pred_w2v_dt = pipeline_w2v_dt.predict(X_test_vector)\n",
    "accuracy_w2v_dt = accuracy_score(y_test, y_pred_w2v_dt)\n",
    "print(\"Akurasi model Decision Tree dengan Word2Vec:\", accuracy_w2v_dt)"
   ]
  },
  {
   "cell_type": "code",
   "execution_count": 57,
   "metadata": {},
   "outputs": [],
   "source": [
    "# upload model logistic regression dengan tfidf dan word2vec menggunakan pickle\n",
    "import pickle\n",
    "\n",
    "# Simpan model dengan pickle ke dalam folder model\n",
    "with open('Model/logistic_regression_tfidf.pkl', 'wb') as file:\n",
    "    pickle.dump(pipeline_tfidf, file)\n",
    "\n",
    "with open('Model/logistic_regression_w2v.pkl', 'wb') as file:\n",
    "    pickle.dump(pipeline_w2v, file)"
   ]
  },
  {
   "cell_type": "code",
   "execution_count": null,
   "metadata": {},
   "outputs": [],
   "source": []
  }
 ],
 "metadata": {
  "kernelspec": {
   "display_name": "base",
   "language": "python",
   "name": "python3"
  },
  "language_info": {
   "codemirror_mode": {
    "name": "ipython",
    "version": 3
   },
   "file_extension": ".py",
   "mimetype": "text/x-python",
   "name": "python",
   "nbconvert_exporter": "python",
   "pygments_lexer": "ipython3",
   "version": "3.11.5"
  }
 },
 "nbformat": 4,
 "nbformat_minor": 2
}
